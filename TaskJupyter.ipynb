{
 "cells": [
  {
   "cell_type": "code",
   "id": "initial_id",
   "metadata": {
    "collapsed": true,
    "ExecuteTime": {
     "end_time": "2024-10-08T14:29:02.136864Z",
     "start_time": "2024-10-08T14:28:57.340113Z"
    }
   },
   "source": [
    "# Create your own dataset\n",
    "import pandas as pd\n",
    "data = {\n",
    " \"calories\": [420,380,390,230], #Column-01\n",
    " \"duration\":[50,40,45,20], #Column-02\n",
    " \"heartbeat\":[120,110,115,90] #Column-03\n",
    "}\n",
    "\n",
    "#load data into a DataFrame object:\n",
    "df = pd.DataFrame (data)\n",
    "print(df)"
   ],
   "outputs": [
    {
     "name": "stdout",
     "output_type": "stream",
     "text": [
      "   calories  duration  heartbeat\n",
      "0       420        50        120\n",
      "1       380        40        110\n",
      "2       390        45        115\n",
      "3       230        20         90\n"
     ]
    }
   ],
   "execution_count": 1
  },
  {
   "metadata": {
    "ExecuteTime": {
     "end_time": "2024-10-08T14:30:10.900Z",
     "start_time": "2024-10-08T14:30:10.892008Z"
    }
   },
   "cell_type": "code",
   "source": [
    "import pandas as pd\n",
    "data = {\n",
    " \"calories\": [420,380,390,230],\n",
    " \"duration\":[50,40,45,20],\n",
    " \"heartbeat\":[120,110,115,90]\n",
    "}\n",
    "#load data into a DataFrame object:\n",
    "df = pd.DataFrame (data)\n",
    "print(df) # Display all data of the data frame\n",
    "print (df.loc[0]) # print the first row of the data frame\n",
    "print (df.loc[[0,3]]) # print the first and 2nd row of the data frame\n",
    "print(df[\"heartbeat\"]) # print heartbeat column data only"
   ],
   "id": "3b16649f6a8ffea4",
   "outputs": [
    {
     "name": "stdout",
     "output_type": "stream",
     "text": [
      "   calories  duration  heartbeat\n",
      "0       420        50        120\n",
      "1       380        40        110\n",
      "2       390        45        115\n",
      "3       230        20         90\n",
      "calories     420\n",
      "duration      50\n",
      "heartbeat    120\n",
      "Name: 0, dtype: int64\n",
      "   calories  duration  heartbeat\n",
      "0       420        50        120\n",
      "3       230        20         90\n",
      "0    120\n",
      "1    110\n",
      "2    115\n",
      "3     90\n",
      "Name: heartbeat, dtype: int64\n"
     ]
    }
   ],
   "execution_count": 3
  },
  {
   "metadata": {
    "ExecuteTime": {
     "end_time": "2024-10-08T14:49:34.029930Z",
     "start_time": "2024-10-08T14:49:34.007860Z"
    }
   },
   "cell_type": "code",
   "source": [
    "#Saving your dataset as a CSV File\n",
    "import pandas as pd\n",
    "data = {\n",
    " \"calories\": [420,380,390,230],\n",
    " \"duration\":[50,40,45,20],\n",
    " \"heartbeat\":[120,110,115,90]\n",
    "}\n",
    "#load data into a DataFrame object:\n",
    "df = pd.DataFrame (data)\n",
    "print(df)\n",
    "df = pd.DataFrame (data, index = [\"day1\",\"day2\",\"day3\",\"day4\"])\n",
    "print(df.to_string())\n",
    "print (df.loc[\"day1\"]) # print the first row of the data frame\n",
    "df.to_csv(r'data',index=False, header = False) # will save data only without indexes\n",
    "df.to_csv(r'data',index=False, header = True) # will save data without indexes\n",
    "df.to_csv(r'data',index=True, header = True)  # will save data with indexes and header"
   ],
   "id": "b6fd6bdd78d56950",
   "outputs": [
    {
     "name": "stdout",
     "output_type": "stream",
     "text": [
      "   calories  duration  heartbeat\n",
      "0       420        50        120\n",
      "1       380        40        110\n",
      "2       390        45        115\n",
      "3       230        20         90\n",
      "      calories  duration  heartbeat\n",
      "day1       420        50        120\n",
      "day2       380        40        110\n",
      "day3       390        45        115\n",
      "day4       230        20         90\n",
      "calories     420\n",
      "duration      50\n",
      "heartbeat    120\n",
      "Name: day1, dtype: int64\n"
     ]
    }
   ],
   "execution_count": 16
  },
  {
   "metadata": {
    "ExecuteTime": {
     "end_time": "2024-10-08T14:49:55.435981Z",
     "start_time": "2024-10-08T14:49:55.428785Z"
    }
   },
   "cell_type": "code",
   "source": [
    "import pandas as pd\n",
    "df = pd.read_csv('data')\n",
    "print(df)"
   ],
   "id": "9a29de17fdfee8d7",
   "outputs": [
    {
     "name": "stdout",
     "output_type": "stream",
     "text": [
      "  Unnamed: 0  calories  duration  heartbeat\n",
      "0       day1       420        50        120\n",
      "1       day2       380        40        110\n",
      "2       day3       390        45        115\n",
      "3       day4       230        20         90\n"
     ]
    }
   ],
   "execution_count": 17
  },
  {
   "metadata": {
    "ExecuteTime": {
     "end_time": "2024-10-08T15:00:14.528943Z",
     "start_time": "2024-10-08T15:00:14.508325Z"
    }
   },
   "cell_type": "code",
   "source": [
    "import pandas as pd\n",
    "df = pd.read_csv('data.csv')\n",
    "print(df)\n",
    "print(df.head(5))\n",
    "print(df.loc[[0,1,2,3,4]])\n",
    "print(df.head(10))\n",
    "print(df.tail(10))"
   ],
   "id": "baddf3bf99bd371e",
   "outputs": [
    {
     "name": "stdout",
     "output_type": "stream",
     "text": [
      "     Nr  Duration  Pulse  Maxpulse  Calories\n",
      "0     0        60    110       130     409.1\n",
      "1     1        60    117       145     479.0\n",
      "2     2        60    103       135     340.0\n",
      "3     3        45    109       175     282.4\n",
      "4     4        45    117       148     406.0\n",
      "5   159        30     80       120     240.9\n",
      "6   160        30     85       120     250.4\n",
      "7   161        45     90       130     260.4\n",
      "8   162        45     95       130     270.0\n",
      "9   163        45    100       140     280.9\n",
      "10  164        60    105       140     290.8\n",
      "11  165        60    110       145     300.0\n",
      "12  166        60    115       145     310.2\n",
      "13  167        75    120       150     320.4\n",
      "   Nr  Duration  Pulse  Maxpulse  Calories\n",
      "0   0        60    110       130     409.1\n",
      "1   1        60    117       145     479.0\n",
      "2   2        60    103       135     340.0\n",
      "3   3        45    109       175     282.4\n",
      "4   4        45    117       148     406.0\n",
      "   Nr  Duration  Pulse  Maxpulse  Calories\n",
      "0   0        60    110       130     409.1\n",
      "1   1        60    117       145     479.0\n",
      "2   2        60    103       135     340.0\n",
      "3   3        45    109       175     282.4\n",
      "4   4        45    117       148     406.0\n",
      "    Nr  Duration  Pulse  Maxpulse  Calories\n",
      "0    0        60    110       130     409.1\n",
      "1    1        60    117       145     479.0\n",
      "2    2        60    103       135     340.0\n",
      "3    3        45    109       175     282.4\n",
      "4    4        45    117       148     406.0\n",
      "5  159        30     80       120     240.9\n",
      "6  160        30     85       120     250.4\n",
      "7  161        45     90       130     260.4\n",
      "8  162        45     95       130     270.0\n",
      "9  163        45    100       140     280.9\n",
      "     Nr  Duration  Pulse  Maxpulse  Calories\n",
      "4     4        45    117       148     406.0\n",
      "5   159        30     80       120     240.9\n",
      "6   160        30     85       120     250.4\n",
      "7   161        45     90       130     260.4\n",
      "8   162        45     95       130     270.0\n",
      "9   163        45    100       140     280.9\n",
      "10  164        60    105       140     290.8\n",
      "11  165        60    110       145     300.0\n",
      "12  166        60    115       145     310.2\n",
      "13  167        75    120       150     320.4\n"
     ]
    }
   ],
   "execution_count": 29
  },
  {
   "metadata": {
    "ExecuteTime": {
     "end_time": "2024-10-08T14:56:51.930171Z",
     "start_time": "2024-10-08T14:56:51.915386Z"
    }
   },
   "cell_type": "code",
   "source": [
    "import pandas as pd\n",
    "df = pd.read_csv('data.csv')\n",
    "print(df.info())"
   ],
   "id": "8642a2ae421aeade",
   "outputs": [
    {
     "name": "stdout",
     "output_type": "stream",
     "text": [
      "<class 'pandas.core.frame.DataFrame'>\n",
      "RangeIndex: 5 entries, 0 to 4\n",
      "Data columns (total 5 columns):\n",
      " #   Column    Non-Null Count  Dtype  \n",
      "---  ------    --------------  -----  \n",
      " 0   Nr        5 non-null      int64  \n",
      " 1   Duration  5 non-null      int64  \n",
      " 2   Pulse     5 non-null      int64  \n",
      " 3   Maxpulse  5 non-null      int64  \n",
      " 4   Calories  5 non-null      float64\n",
      "dtypes: float64(1), int64(4)\n",
      "memory usage: 332.0 bytes\n",
      "None\n"
     ]
    }
   ],
   "execution_count": 22
  },
  {
   "metadata": {
    "ExecuteTime": {
     "end_time": "2024-10-08T14:57:05.915621Z",
     "start_time": "2024-10-08T14:57:05.900618Z"
    }
   },
   "cell_type": "code",
   "source": [
    "df = pd.read_csv('data.csv')\n",
    "print(df.describe())\n"
   ],
   "id": "69738492f24c3d23",
   "outputs": [
    {
     "name": "stdout",
     "output_type": "stream",
     "text": [
      "             Nr   Duration       Pulse    Maxpulse    Calories\n",
      "count  5.000000   5.000000    5.000000    5.000000    5.000000\n",
      "mean   2.000000  54.000000  111.200000  146.600000  383.300000\n",
      "std    1.581139   8.215838    5.932959   17.472836   74.824996\n",
      "min    0.000000  45.000000  103.000000  130.000000  282.400000\n",
      "25%    1.000000  45.000000  109.000000  135.000000  340.000000\n",
      "50%    2.000000  60.000000  110.000000  145.000000  406.000000\n",
      "75%    3.000000  60.000000  117.000000  148.000000  409.100000\n",
      "max    4.000000  60.000000  117.000000  175.000000  479.000000\n"
     ]
    }
   ],
   "execution_count": 23
  },
  {
   "metadata": {
    "ExecuteTime": {
     "end_time": "2024-10-08T14:57:37.321306Z",
     "start_time": "2024-10-08T14:57:37.301924Z"
    }
   },
   "cell_type": "code",
   "source": [
    "import pandas as pd\n",
    "df = pd.read_csv('data.csv')\n",
    "print(df.info())\n",
    "df.dropna(inplace = True)\n",
    "print(df.info())\n",
    "df.to_csv(r'data',index=False, header = True) # will save data without indexes but with h"
   ],
   "id": "8609b46189184943",
   "outputs": [
    {
     "name": "stdout",
     "output_type": "stream",
     "text": [
      "<class 'pandas.core.frame.DataFrame'>\n",
      "RangeIndex: 5 entries, 0 to 4\n",
      "Data columns (total 5 columns):\n",
      " #   Column    Non-Null Count  Dtype  \n",
      "---  ------    --------------  -----  \n",
      " 0   Nr        5 non-null      int64  \n",
      " 1   Duration  5 non-null      int64  \n",
      " 2   Pulse     5 non-null      int64  \n",
      " 3   Maxpulse  5 non-null      int64  \n",
      " 4   Calories  5 non-null      float64\n",
      "dtypes: float64(1), int64(4)\n",
      "memory usage: 332.0 bytes\n",
      "None\n",
      "<class 'pandas.core.frame.DataFrame'>\n",
      "RangeIndex: 5 entries, 0 to 4\n",
      "Data columns (total 5 columns):\n",
      " #   Column    Non-Null Count  Dtype  \n",
      "---  ------    --------------  -----  \n",
      " 0   Nr        5 non-null      int64  \n",
      " 1   Duration  5 non-null      int64  \n",
      " 2   Pulse     5 non-null      int64  \n",
      " 3   Maxpulse  5 non-null      int64  \n",
      " 4   Calories  5 non-null      float64\n",
      "dtypes: float64(1), int64(4)\n",
      "memory usage: 332.0 bytes\n",
      "None\n"
     ]
    }
   ],
   "execution_count": 25
  },
  {
   "metadata": {
    "ExecuteTime": {
     "end_time": "2024-10-08T14:57:58.289796Z",
     "start_time": "2024-10-08T14:57:58.278038Z"
    }
   },
   "cell_type": "code",
   "source": [
    "import pandas as pd\n",
    "df = pd.read_csv('data.csv')\n",
    "print(df.info())\n",
    "df.fillna(130, inplace = True)\n",
    "print(df.info())\n",
    "df.to_csv(r'data',index=False, header = True) # will save data without indexes but with"
   ],
   "id": "616f9578a8ae7a1d",
   "outputs": [
    {
     "name": "stdout",
     "output_type": "stream",
     "text": [
      "<class 'pandas.core.frame.DataFrame'>\n",
      "RangeIndex: 5 entries, 0 to 4\n",
      "Data columns (total 5 columns):\n",
      " #   Column    Non-Null Count  Dtype  \n",
      "---  ------    --------------  -----  \n",
      " 0   Nr        5 non-null      int64  \n",
      " 1   Duration  5 non-null      int64  \n",
      " 2   Pulse     5 non-null      int64  \n",
      " 3   Maxpulse  5 non-null      int64  \n",
      " 4   Calories  5 non-null      float64\n",
      "dtypes: float64(1), int64(4)\n",
      "memory usage: 332.0 bytes\n",
      "None\n",
      "<class 'pandas.core.frame.DataFrame'>\n",
      "RangeIndex: 5 entries, 0 to 4\n",
      "Data columns (total 5 columns):\n",
      " #   Column    Non-Null Count  Dtype  \n",
      "---  ------    --------------  -----  \n",
      " 0   Nr        5 non-null      int64  \n",
      " 1   Duration  5 non-null      int64  \n",
      " 2   Pulse     5 non-null      int64  \n",
      " 3   Maxpulse  5 non-null      int64  \n",
      " 4   Calories  5 non-null      float64\n",
      "dtypes: float64(1), int64(4)\n",
      "memory usage: 332.0 bytes\n",
      "None\n"
     ]
    }
   ],
   "execution_count": 26
  },
  {
   "metadata": {
    "ExecuteTime": {
     "end_time": "2024-10-08T15:11:44.564697Z",
     "start_time": "2024-10-08T15:11:44.544357Z"
    }
   },
   "cell_type": "code",
   "source": [
    "#Recommended method is to change the value in the affected column only, ich bin auf seite 7 der Lettzte code in der Datei!\n",
    "import pandas as pd\n",
    "df = pd.read_csv('data.csv')\n",
    "print(df.info())\n",
    "#df[\"Calories\"].fillna(130, inplace = True)\n",
    "print(df.info())\n",
    "df.to_csv(r'data',index=False, header = True) # will save data without indexes but with"
   ],
   "id": "4dfe26ab03d419ed",
   "outputs": [
    {
     "name": "stdout",
     "output_type": "stream",
     "text": [
      "<class 'pandas.core.frame.DataFrame'>\n",
      "RangeIndex: 14 entries, 0 to 13\n",
      "Data columns (total 5 columns):\n",
      " #   Column    Non-Null Count  Dtype  \n",
      "---  ------    --------------  -----  \n",
      " 0   Nr        14 non-null     int64  \n",
      " 1   Duration  14 non-null     int64  \n",
      " 2   Pulse     14 non-null     int64  \n",
      " 3   Maxpulse  14 non-null     int64  \n",
      " 4   Calories  14 non-null     float64\n",
      "dtypes: float64(1), int64(4)\n",
      "memory usage: 692.0 bytes\n",
      "None\n",
      "<class 'pandas.core.frame.DataFrame'>\n",
      "RangeIndex: 14 entries, 0 to 13\n",
      "Data columns (total 5 columns):\n",
      " #   Column    Non-Null Count  Dtype  \n",
      "---  ------    --------------  -----  \n",
      " 0   Nr        14 non-null     int64  \n",
      " 1   Duration  14 non-null     int64  \n",
      " 2   Pulse     14 non-null     int64  \n",
      " 3   Maxpulse  14 non-null     int64  \n",
      " 4   Calories  14 non-null     float64\n",
      "dtypes: float64(1), int64(4)\n",
      "memory usage: 692.0 bytes\n",
      "None\n"
     ]
    }
   ],
   "execution_count": 31
  },
  {
   "metadata": {},
   "cell_type": "code",
   "outputs": [],
   "execution_count": null,
   "source": "",
   "id": "162c6dd4e6e45db0"
  }
 ],
 "metadata": {
  "kernelspec": {
   "display_name": "Python 3",
   "language": "python",
   "name": "python3"
  },
  "language_info": {
   "codemirror_mode": {
    "name": "ipython",
    "version": 2
   },
   "file_extension": ".py",
   "mimetype": "text/x-python",
   "name": "python",
   "nbconvert_exporter": "python",
   "pygments_lexer": "ipython2",
   "version": "2.7.6"
  }
 },
 "nbformat": 4,
 "nbformat_minor": 5
}
